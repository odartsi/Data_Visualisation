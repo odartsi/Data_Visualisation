{
 "cells": [
  {
   "cell_type": "code",
   "execution_count": 405,
   "id": "03e1e047-a324-42c9-abb7-03496401056d",
   "metadata": {},
   "outputs": [],
   "source": [
    "import panel as pn\n",
    "pn.extension('tabulator')\n",
    "import hvplot.pandas\n",
    "import seaborn as sns\n",
    "import numpy as np\n",
    "# Define panel widgets\n",
    "import pandas as pd\n"
   ]
  },
  {
   "cell_type": "code",
   "execution_count": 406,
   "id": "e70b77aa-8afa-4829-a794-a42ab21f6f50",
   "metadata": {},
   "outputs": [
    {
     "data": {},
     "metadata": {},
     "output_type": "display_data"
    },
    {
     "data": {
      "application/vnd.holoviews_exec.v0+json": "",
      "text/html": [
       "<div id='29891'>\n",
       "\n",
       "\n",
       "\n",
       "\n",
       "\n",
       "  <div class=\"bk-root\" id=\"7b828acf-cf6c-473a-be16-5f348de60a71\" data-root-id=\"29891\"></div>\n",
       "</div>\n",
       "<script type=\"application/javascript\">(function(root) {\n",
       "  function embed_document(root) {\n",
       "    var docs_json = {\"227d2ea7-3155-4221-ad26-60580120f554\":{\"defs\":[{\"extends\":null,\"module\":null,\"name\":\"ReactiveHTML1\",\"overrides\":[],\"properties\":[]},{\"extends\":null,\"module\":null,\"name\":\"FlexBox1\",\"overrides\":[],\"properties\":[{\"default\":\"flex-start\",\"kind\":null,\"name\":\"align_content\"},{\"default\":\"flex-start\",\"kind\":null,\"name\":\"align_items\"},{\"default\":\"row\",\"kind\":null,\"name\":\"flex_direction\"},{\"default\":\"wrap\",\"kind\":null,\"name\":\"flex_wrap\"},{\"default\":\"flex-start\",\"kind\":null,\"name\":\"justify_content\"}]},{\"extends\":null,\"module\":null,\"name\":\"GridStack1\",\"overrides\":[],\"properties\":[{\"default\":\"warn\",\"kind\":null,\"name\":\"mode\"},{\"default\":null,\"kind\":null,\"name\":\"ncols\"},{\"default\":null,\"kind\":null,\"name\":\"nrows\"},{\"default\":true,\"kind\":null,\"name\":\"allow_resize\"},{\"default\":true,\"kind\":null,\"name\":\"allow_drag\"},{\"default\":[],\"kind\":null,\"name\":\"state\"}]},{\"extends\":null,\"module\":null,\"name\":\"click1\",\"overrides\":[],\"properties\":[{\"default\":\"\",\"kind\":null,\"name\":\"terminal_output\"},{\"default\":\"\",\"kind\":null,\"name\":\"debug_name\"},{\"default\":0,\"kind\":null,\"name\":\"clears\"}]},{\"extends\":null,\"module\":null,\"name\":\"TemplateActions1\",\"overrides\":[],\"properties\":[{\"default\":0,\"kind\":null,\"name\":\"open_modal\"},{\"default\":0,\"kind\":null,\"name\":\"close_modal\"}]},{\"extends\":null,\"module\":null,\"name\":\"MaterialTemplateActions1\",\"overrides\":[],\"properties\":[{\"default\":0,\"kind\":null,\"name\":\"open_modal\"},{\"default\":0,\"kind\":null,\"name\":\"close_modal\"}]}],\"roots\":{\"references\":[{\"attributes\":{\"client_comm_id\":\"664fe8d2852940d48671bc03ceee80c5\",\"comm_id\":\"83796ecc0c494c1ca9c173dbc41e01aa\",\"plot_id\":\"29891\"},\"id\":\"29892\",\"type\":\"panel.models.comm_manager.CommManager\"},{\"attributes\":{\"end\":50,\"margin\":[5,10,5,10],\"start\":0,\"title\":\"total_bill\",\"value\":10},\"id\":\"29891\",\"type\":\"Slider\"}],\"root_ids\":[\"29891\",\"29892\"]},\"title\":\"Bokeh Application\",\"version\":\"2.4.2\"}};\n",
       "    var render_items = [{\"docid\":\"227d2ea7-3155-4221-ad26-60580120f554\",\"root_ids\":[\"29891\"],\"roots\":{\"29891\":\"7b828acf-cf6c-473a-be16-5f348de60a71\"}}];\n",
       "    root.Bokeh.embed.embed_items_notebook(docs_json, render_items);\n",
       "  }\n",
       "  if (root.Bokeh !== undefined && root.Bokeh.Panel !== undefined && ( root['Tabulator'] !== undefined)) {\n",
       "    embed_document(root);\n",
       "  } else {\n",
       "    var attempts = 0;\n",
       "    var timer = setInterval(function(root) {\n",
       "      if (root.Bokeh !== undefined && root.Bokeh.Panel !== undefined && (root['Tabulator'] !== undefined)) {\n",
       "        clearInterval(timer);\n",
       "        embed_document(root);\n",
       "      } else if (document.readyState == \"complete\") {\n",
       "        attempts++;\n",
       "        if (attempts > 200) {\n",
       "          clearInterval(timer);\n",
       "          console.log(\"Bokeh: ERROR: Unable to run BokehJS code because BokehJS library is missing\");\n",
       "        }\n",
       "      }\n",
       "    }, 25, root)\n",
       "  }\n",
       "})(window);</script>"
      ],
      "text/plain": [
       "IntSlider(end=50, name='total_bill', value=10)"
      ]
     },
     "execution_count": 406,
     "metadata": {
      "application/vnd.holoviews_exec.v0+json": {
       "id": "29891"
      }
     },
     "output_type": "execute_result"
    }
   ],
   "source": [
    "tips = sns.load_dataset(\"tips\")\n",
    "bill_slider=pn.widgets.IntSlider(name='total_bill', start=0,end=int(max(tips.total_bill)),step=1, value=10)\n",
    "bill_slider"
   ]
  },
  {
   "cell_type": "markdown",
   "id": "15fa607c-4d04-4a69-8de6-5c7ffcd32760",
   "metadata": {},
   "source": [
    "## Data preprocessing"
   ]
  },
  {
   "cell_type": "code",
   "execution_count": 407,
   "id": "a1e73d34-dfa4-4e23-98c1-63f4931d73c3",
   "metadata": {},
   "outputs": [
    {
     "data": {
      "text/html": [
       "<div>\n",
       "<style scoped>\n",
       "    .dataframe tbody tr th:only-of-type {\n",
       "        vertical-align: middle;\n",
       "    }\n",
       "\n",
       "    .dataframe tbody tr th {\n",
       "        vertical-align: top;\n",
       "    }\n",
       "\n",
       "    .dataframe thead th {\n",
       "        text-align: right;\n",
       "    }\n",
       "</style>\n",
       "<table border=\"1\" class=\"dataframe\">\n",
       "  <thead>\n",
       "    <tr style=\"text-align: right;\">\n",
       "      <th></th>\n",
       "      <th>total_bill</th>\n",
       "      <th>tip</th>\n",
       "      <th>sex</th>\n",
       "      <th>smoker</th>\n",
       "      <th>day</th>\n",
       "      <th>time</th>\n",
       "      <th>size</th>\n",
       "    </tr>\n",
       "  </thead>\n",
       "  <tbody>\n",
       "    <tr>\n",
       "      <th>0</th>\n",
       "      <td>16</td>\n",
       "      <td>1</td>\n",
       "      <td>Female</td>\n",
       "      <td>0</td>\n",
       "      <td>Sun</td>\n",
       "      <td>20</td>\n",
       "      <td>2</td>\n",
       "    </tr>\n",
       "    <tr>\n",
       "      <th>1</th>\n",
       "      <td>10</td>\n",
       "      <td>1</td>\n",
       "      <td>Male</td>\n",
       "      <td>0</td>\n",
       "      <td>Sun</td>\n",
       "      <td>20</td>\n",
       "      <td>3</td>\n",
       "    </tr>\n",
       "    <tr>\n",
       "      <th>2</th>\n",
       "      <td>21</td>\n",
       "      <td>3</td>\n",
       "      <td>Male</td>\n",
       "      <td>0</td>\n",
       "      <td>Sun</td>\n",
       "      <td>20</td>\n",
       "      <td>3</td>\n",
       "    </tr>\n",
       "    <tr>\n",
       "      <th>3</th>\n",
       "      <td>23</td>\n",
       "      <td>3</td>\n",
       "      <td>Male</td>\n",
       "      <td>0</td>\n",
       "      <td>Sun</td>\n",
       "      <td>20</td>\n",
       "      <td>2</td>\n",
       "    </tr>\n",
       "    <tr>\n",
       "      <th>4</th>\n",
       "      <td>24</td>\n",
       "      <td>3</td>\n",
       "      <td>Female</td>\n",
       "      <td>0</td>\n",
       "      <td>Sun</td>\n",
       "      <td>20</td>\n",
       "      <td>4</td>\n",
       "    </tr>\n",
       "    <tr>\n",
       "      <th>...</th>\n",
       "      <td>...</td>\n",
       "      <td>...</td>\n",
       "      <td>...</td>\n",
       "      <td>...</td>\n",
       "      <td>...</td>\n",
       "      <td>...</td>\n",
       "      <td>...</td>\n",
       "    </tr>\n",
       "    <tr>\n",
       "      <th>239</th>\n",
       "      <td>29</td>\n",
       "      <td>5</td>\n",
       "      <td>Male</td>\n",
       "      <td>0</td>\n",
       "      <td>Sat</td>\n",
       "      <td>20</td>\n",
       "      <td>3</td>\n",
       "    </tr>\n",
       "    <tr>\n",
       "      <th>240</th>\n",
       "      <td>27</td>\n",
       "      <td>2</td>\n",
       "      <td>Female</td>\n",
       "      <td>1</td>\n",
       "      <td>Sat</td>\n",
       "      <td>20</td>\n",
       "      <td>2</td>\n",
       "    </tr>\n",
       "    <tr>\n",
       "      <th>241</th>\n",
       "      <td>22</td>\n",
       "      <td>2</td>\n",
       "      <td>Male</td>\n",
       "      <td>1</td>\n",
       "      <td>Sat</td>\n",
       "      <td>20</td>\n",
       "      <td>2</td>\n",
       "    </tr>\n",
       "    <tr>\n",
       "      <th>242</th>\n",
       "      <td>17</td>\n",
       "      <td>1</td>\n",
       "      <td>Male</td>\n",
       "      <td>0</td>\n",
       "      <td>Sat</td>\n",
       "      <td>20</td>\n",
       "      <td>2</td>\n",
       "    </tr>\n",
       "    <tr>\n",
       "      <th>243</th>\n",
       "      <td>18</td>\n",
       "      <td>3</td>\n",
       "      <td>Female</td>\n",
       "      <td>0</td>\n",
       "      <td>Thur</td>\n",
       "      <td>20</td>\n",
       "      <td>2</td>\n",
       "    </tr>\n",
       "  </tbody>\n",
       "</table>\n",
       "<p>244 rows × 7 columns</p>\n",
       "</div>"
      ],
      "text/plain": [
       "     total_bill  tip     sex  smoker   day  time  size\n",
       "0            16    1  Female       0   Sun    20     2\n",
       "1            10    1    Male       0   Sun    20     3\n",
       "2            21    3    Male       0   Sun    20     3\n",
       "3            23    3    Male       0   Sun    20     2\n",
       "4            24    3  Female       0   Sun    20     4\n",
       "..          ...  ...     ...     ...   ...   ...   ...\n",
       "239          29    5    Male       0   Sat    20     3\n",
       "240          27    2  Female       1   Sat    20     2\n",
       "241          22    2    Male       1   Sat    20     2\n",
       "242          17    1    Male       0   Sat    20     2\n",
       "243          18    3  Female       0  Thur    20     2\n",
       "\n",
       "[244 rows x 7 columns]"
      ]
     },
     "execution_count": 407,
     "metadata": {},
     "output_type": "execute_result"
    }
   ],
   "source": [
    "#tips = tips.fillna(0)\n",
    "tips['smoker'] = np.where(tips['smoker']=='Yes',1, 0)\n",
    "#tips['sex'] = np.where(tips['sex']=='Female',1, 0)\n",
    "tips['time'] = np.where(tips['time']=='Dinner',20, 12)\n",
    "tips=tips.astype({'total_bill':'int','tip':'int'}) \n",
    "tips"
   ]
  },
  {
   "cell_type": "code",
   "execution_count": 408,
   "id": "b01156c9-4c01-4e94-9a58-c2552d2c02c7",
   "metadata": {},
   "outputs": [],
   "source": [
    "tips=tips.interactive() ## super important"
   ]
  },
  {
   "cell_type": "markdown",
   "id": "eb5c0d1c-4e46-4cd7-a431-6eb47c5faf1f",
   "metadata": {},
   "source": [
    "## Amount of tip versus total bill"
   ]
  },
  {
   "cell_type": "code",
   "execution_count": 409,
   "id": "3ddfa8f8-eb74-44dc-a91b-682750014b5d",
   "metadata": {},
   "outputs": [],
   "source": [
    "y_axis_tip=pn.widgets.RadioButtonGroup(\n",
    "    name='Y axis',\n",
    "    options=['tip'],\n",
    "    button_type='success')"
   ]
  },
  {
   "cell_type": "code",
   "execution_count": 411,
   "id": "de5137f5-9a7c-4941-8a52-cd865698bbc3",
   "metadata": {},
   "outputs": [],
   "source": [
    "sex=['Female','Male']\n",
    "tip_pipeline=(\n",
    "    tips[(tips.total_bill<=bill_slider) & (tips.sex.isin(sex))]\n",
    "    .groupby(['sex','total_bill'])[y_axis_tip].mean()\n",
    "    .to_frame()\n",
    "    .reset_index()\n",
    "    .sort_values(by='total_bill')\n",
    "    .reset_index(drop=True)\n",
    ")"
   ]
  },
  {
   "cell_type": "code",
   "execution_count": 413,
   "id": "3b2fb22b-88bc-484a-894d-9001dd8c6c40",
   "metadata": {},
   "outputs": [],
   "source": [
    "tip_plot=tip_pipeline.hvplot(x='total_bill',by='sex',y=y_axis_tip, title='bill vs tips')"
   ]
  },
  {
   "cell_type": "code",
   "execution_count": 414,
   "id": "eece6112-4276-4e3f-9b40-f456b626b6ec",
   "metadata": {},
   "outputs": [
    {
     "data": {},
     "metadata": {},
     "output_type": "display_data"
    },
    {
     "data": {},
     "metadata": {},
     "output_type": "display_data"
    },
    {
     "data": {
      "application/vnd.holoviews_exec.v0+json": "",
      "text/html": [
       "<div id='29905'>\n",
       "\n",
       "\n",
       "\n",
       "\n",
       "\n",
       "  <div class=\"bk-root\" id=\"6766c620-dd56-45dd-af08-a8f1b27a17ee\" data-root-id=\"29905\"></div>\n",
       "</div>\n",
       "<script type=\"application/javascript\">(function(root) {\n",
       "  function embed_document(root) {\n",
       "    var docs_json = {\"732f9991-0b34-4ef8-b0a3-2e8e8aa474f7\":{\"defs\":[{\"extends\":null,\"module\":null,\"name\":\"ReactiveHTML1\",\"overrides\":[],\"properties\":[]},{\"extends\":null,\"module\":null,\"name\":\"FlexBox1\",\"overrides\":[],\"properties\":[{\"default\":\"flex-start\",\"kind\":null,\"name\":\"align_content\"},{\"default\":\"flex-start\",\"kind\":null,\"name\":\"align_items\"},{\"default\":\"row\",\"kind\":null,\"name\":\"flex_direction\"},{\"default\":\"wrap\",\"kind\":null,\"name\":\"flex_wrap\"},{\"default\":\"flex-start\",\"kind\":null,\"name\":\"justify_content\"}]},{\"extends\":null,\"module\":null,\"name\":\"GridStack1\",\"overrides\":[],\"properties\":[{\"default\":\"warn\",\"kind\":null,\"name\":\"mode\"},{\"default\":null,\"kind\":null,\"name\":\"ncols\"},{\"default\":null,\"kind\":null,\"name\":\"nrows\"},{\"default\":true,\"kind\":null,\"name\":\"allow_resize\"},{\"default\":true,\"kind\":null,\"name\":\"allow_drag\"},{\"default\":[],\"kind\":null,\"name\":\"state\"}]},{\"extends\":null,\"module\":null,\"name\":\"click1\",\"overrides\":[],\"properties\":[{\"default\":\"\",\"kind\":null,\"name\":\"terminal_output\"},{\"default\":\"\",\"kind\":null,\"name\":\"debug_name\"},{\"default\":0,\"kind\":null,\"name\":\"clears\"}]},{\"extends\":null,\"module\":null,\"name\":\"TemplateActions1\",\"overrides\":[],\"properties\":[{\"default\":0,\"kind\":null,\"name\":\"open_modal\"},{\"default\":0,\"kind\":null,\"name\":\"close_modal\"}]},{\"extends\":null,\"module\":null,\"name\":\"MaterialTemplateActions1\",\"overrides\":[],\"properties\":[{\"default\":0,\"kind\":null,\"name\":\"open_modal\"},{\"default\":0,\"kind\":null,\"name\":\"close_modal\"}]}],\"roots\":{\"references\":[{\"attributes\":{\"axis\":{\"id\":\"29929\"},\"coordinates\":null,\"dimension\":1,\"grid_line_color\":null,\"group\":null,\"ticker\":null},\"id\":\"29932\",\"type\":\"Grid\"},{\"attributes\":{\"axis_label\":\"tip\",\"coordinates\":null,\"formatter\":{\"id\":\"29950\"},\"group\":null,\"major_label_policy\":{\"id\":\"29951\"},\"ticker\":{\"id\":\"29930\"}},\"id\":\"29929\",\"type\":\"LinearAxis\"},{\"attributes\":{},\"id\":\"29948\",\"type\":\"AllLabels\"},{\"attributes\":{\"data\":{\"sex\":[\"Male\",\"Male\",\"Male\",\"Male\",\"Male\",\"Male\"],\"tip\":{\"__ndarray__\":\"AAAAAAAA+H8AAAAAAAD4fwAAAAAAAAJAVVVVVVVV9T8AAAAAAADwP6uqqqqqqvI/\",\"dtype\":\"float64\",\"order\":\"little\",\"shape\":[6]},\"total_bill\":[3,5,7,8,9,10]},\"selected\":{\"id\":\"29974\"},\"selection_policy\":{\"id\":\"29990\"}},\"id\":\"29973\",\"type\":\"ColumnDataSource\"},{\"attributes\":{},\"id\":\"29935\",\"type\":\"WheelZoomTool\"},{\"attributes\":{\"data\":{\"sex\":[\"Female\",\"Female\",\"Female\",\"Female\",\"Female\",\"Female\"],\"tip\":{\"__ndarray__\":\"AAAAAAAA8D8AAAAAAADwPwAAAAAAAPA/AAAAAAAA8D8AAAAAAAAQQAAAAAAAAPg/\",\"dtype\":\"float64\",\"order\":\"little\",\"shape\":[6]},\"total_bill\":[3,5,7,8,9,10]},\"selected\":{\"id\":\"29953\"},\"selection_policy\":{\"id\":\"29967\"}},\"id\":\"29952\",\"type\":\"ColumnDataSource\"},{\"attributes\":{},\"id\":\"29933\",\"type\":\"SaveTool\"},{\"attributes\":{},\"id\":\"29950\",\"type\":\"BasicTickFormatter\"},{\"attributes\":{},\"id\":\"29951\",\"type\":\"AllLabels\"},{\"attributes\":{\"children\":[{\"id\":\"29906\"}],\"margin\":[0,0,0,0],\"name\":\"Row128565\"},\"id\":\"29905\",\"type\":\"Row\"},{\"attributes\":{\"overlay\":{\"id\":\"29938\"}},\"id\":\"29936\",\"type\":\"BoxZoomTool\"},{\"attributes\":{\"children\":[{\"id\":\"29908\"},{\"id\":\"29911\"}],\"margin\":[0,0,0,0],\"name\":\"Row128558\"},\"id\":\"29907\",\"type\":\"Row\"},{\"attributes\":{},\"id\":\"29937\",\"type\":\"ResetTool\"},{\"attributes\":{\"client_comm_id\":\"e69c8d7eed5c466dab7b55b3d2ab7c37\",\"comm_id\":\"9e417f66afe144f393fd2c40654d101c\",\"plot_id\":\"29905\"},\"id\":\"30139\",\"type\":\"panel.models.comm_manager.CommManager\"},{\"attributes\":{\"end\":4.3,\"reset_end\":4.3,\"reset_start\":0.7,\"start\":0.7,\"tags\":[[[\"tip\",\"tip\",null]]]},\"id\":\"29913\",\"type\":\"Range1d\"},{\"attributes\":{\"bottom_units\":\"screen\",\"coordinates\":null,\"fill_alpha\":0.5,\"fill_color\":\"lightgrey\",\"group\":null,\"left_units\":\"screen\",\"level\":\"overlay\",\"line_alpha\":1.0,\"line_color\":\"black\",\"line_dash\":[4,4],\"line_width\":2,\"right_units\":\"screen\",\"syncable\":false,\"top_units\":\"screen\"},\"id\":\"29938\",\"type\":\"BoxAnnotation\"},{\"attributes\":{},\"id\":\"29967\",\"type\":\"UnionRenderers\"},{\"attributes\":{\"click_policy\":\"mute\",\"coordinates\":null,\"group\":null,\"items\":[{\"id\":\"29971\"},{\"id\":\"29993\"}],\"location\":[0,0],\"title\":\"sex\"},\"id\":\"29970\",\"type\":\"Legend\"},{\"attributes\":{\"coordinates\":null,\"data_source\":{\"id\":\"29952\"},\"glyph\":{\"id\":\"29955\"},\"group\":null,\"hover_glyph\":null,\"muted_glyph\":{\"id\":\"29957\"},\"nonselection_glyph\":{\"id\":\"29956\"},\"selection_glyph\":{\"id\":\"29972\"},\"view\":{\"id\":\"29959\"}},\"id\":\"29958\",\"type\":\"GlyphRenderer\"},{\"attributes\":{\"line_alpha\":0.2,\"line_color\":\"#30a2da\",\"line_width\":2,\"x\":{\"field\":\"total_bill\"},\"y\":{\"field\":\"tip\"}},\"id\":\"29957\",\"type\":\"Line\"},{\"attributes\":{\"line_color\":\"#30a2da\",\"line_width\":2,\"x\":{\"field\":\"total_bill\"},\"y\":{\"field\":\"tip\"}},\"id\":\"29972\",\"type\":\"Line\"},{\"attributes\":{\"line_alpha\":0.1,\"line_color\":\"#30a2da\",\"line_width\":2,\"x\":{\"field\":\"total_bill\"},\"y\":{\"field\":\"tip\"}},\"id\":\"29956\",\"type\":\"Line\"},{\"attributes\":{\"label\":{\"value\":\"Male\"},\"renderers\":[{\"id\":\"29979\"}]},\"id\":\"29993\",\"type\":\"LegendItem\"},{\"attributes\":{},\"id\":\"29953\",\"type\":\"Selection\"},{\"attributes\":{\"source\":{\"id\":\"29952\"}},\"id\":\"29959\",\"type\":\"CDSView\"},{\"attributes\":{\"source\":{\"id\":\"29973\"}},\"id\":\"29980\",\"type\":\"CDSView\"},{\"attributes\":{\"below\":[{\"id\":\"29925\"}],\"center\":[{\"id\":\"29928\"},{\"id\":\"29932\"}],\"height\":300,\"left\":[{\"id\":\"29929\"}],\"margin\":[5,5,5,5],\"min_border_bottom\":10,\"min_border_left\":10,\"min_border_right\":10,\"min_border_top\":10,\"renderers\":[{\"id\":\"29958\"},{\"id\":\"29979\"}],\"right\":[{\"id\":\"29970\"}],\"sizing_mode\":\"fixed\",\"title\":{\"id\":\"29917\"},\"toolbar\":{\"id\":\"29939\"},\"width\":700,\"x_range\":{\"id\":\"29912\"},\"x_scale\":{\"id\":\"29921\"},\"y_range\":{\"id\":\"29913\"},\"y_scale\":{\"id\":\"29923\"}},\"id\":\"29916\",\"subtype\":\"Figure\",\"type\":\"Plot\"},{\"attributes\":{\"line_alpha\":0.1,\"line_color\":\"#fc4f30\",\"line_width\":2,\"x\":{\"field\":\"total_bill\"},\"y\":{\"field\":\"tip\"}},\"id\":\"29977\",\"type\":\"Line\"},{\"attributes\":{\"label\":{\"value\":\"Female\"},\"renderers\":[{\"id\":\"29958\"}]},\"id\":\"29971\",\"type\":\"LegendItem\"},{\"attributes\":{\"line_color\":\"#fc4f30\",\"line_width\":2,\"x\":{\"field\":\"total_bill\"},\"y\":{\"field\":\"tip\"}},\"id\":\"29976\",\"type\":\"Line\"},{\"attributes\":{},\"id\":\"29947\",\"type\":\"BasicTickFormatter\"},{\"attributes\":{\"line_color\":\"#fc4f30\",\"line_width\":2,\"x\":{\"field\":\"total_bill\"},\"y\":{\"field\":\"tip\"}},\"id\":\"29994\",\"type\":\"Line\"},{\"attributes\":{\"end\":10.0,\"reset_end\":10.0,\"reset_start\":3.0,\"start\":3.0,\"tags\":[[[\"total_bill\",\"total_bill\",null]]]},\"id\":\"29912\",\"type\":\"Range1d\"},{\"attributes\":{\"margin\":[5,5,5,5],\"name\":\"HSpacer128557\",\"sizing_mode\":\"stretch_width\"},\"id\":\"29911\",\"type\":\"Spacer\"},{\"attributes\":{},\"id\":\"29974\",\"type\":\"Selection\"},{\"attributes\":{\"coordinates\":null,\"group\":null,\"text\":\"bill vs tips\",\"text_color\":\"black\",\"text_font_size\":\"12pt\"},\"id\":\"29917\",\"type\":\"Title\"},{\"attributes\":{\"line_color\":\"#30a2da\",\"line_width\":2,\"x\":{\"field\":\"total_bill\"},\"y\":{\"field\":\"tip\"}},\"id\":\"29955\",\"type\":\"Line\"},{\"attributes\":{\"tools\":[{\"id\":\"29914\"},{\"id\":\"29933\"},{\"id\":\"29934\"},{\"id\":\"29935\"},{\"id\":\"29936\"},{\"id\":\"29937\"}]},\"id\":\"29939\",\"type\":\"Toolbar\"},{\"attributes\":{\"callback\":null,\"renderers\":[{\"id\":\"29958\"},{\"id\":\"29979\"}],\"tags\":[\"hv_created\"],\"tooltips\":[[\"sex\",\"@{sex}\"],[\"total_bill\",\"@{total_bill}\"],[\"tip\",\"@{tip}\"]]},\"id\":\"29914\",\"type\":\"HoverTool\"},{\"attributes\":{\"line_alpha\":0.2,\"line_color\":\"#fc4f30\",\"line_width\":2,\"x\":{\"field\":\"total_bill\"},\"y\":{\"field\":\"tip\"}},\"id\":\"29978\",\"type\":\"Line\"},{\"attributes\":{},\"id\":\"29921\",\"type\":\"LinearScale\"},{\"attributes\":{},\"id\":\"29923\",\"type\":\"LinearScale\"},{\"attributes\":{\"children\":[{\"id\":\"29907\"},{\"id\":\"29916\"}],\"margin\":[0,0,0,0],\"name\":\"Column128564\"},\"id\":\"29906\",\"type\":\"Column\"},{\"attributes\":{\"coordinates\":null,\"data_source\":{\"id\":\"29973\"},\"glyph\":{\"id\":\"29976\"},\"group\":null,\"hover_glyph\":null,\"muted_glyph\":{\"id\":\"29978\"},\"nonselection_glyph\":{\"id\":\"29977\"},\"selection_glyph\":{\"id\":\"29994\"},\"view\":{\"id\":\"29980\"}},\"id\":\"29979\",\"type\":\"GlyphRenderer\"},{\"attributes\":{},\"id\":\"29926\",\"type\":\"BasicTicker\"},{\"attributes\":{\"children\":[{\"id\":\"29909\"},{\"id\":\"29910\"}],\"margin\":[0,0,0,0],\"name\":\"Column128553\"},\"id\":\"29908\",\"type\":\"Column\"},{\"attributes\":{\"axis\":{\"id\":\"29925\"},\"coordinates\":null,\"grid_line_color\":null,\"group\":null,\"ticker\":null},\"id\":\"29928\",\"type\":\"Grid\"},{\"attributes\":{\"active\":0,\"button_type\":\"success\",\"labels\":[\"tip\"],\"margin\":[5,10,5,10]},\"id\":\"29910\",\"type\":\"RadioButtonGroup\"},{\"attributes\":{},\"id\":\"29990\",\"type\":\"UnionRenderers\"},{\"attributes\":{},\"id\":\"29930\",\"type\":\"BasicTicker\"},{\"attributes\":{\"axis_label\":\"total_bill\",\"coordinates\":null,\"formatter\":{\"id\":\"29947\"},\"group\":null,\"major_label_policy\":{\"id\":\"29948\"},\"ticker\":{\"id\":\"29926\"}},\"id\":\"29925\",\"type\":\"LinearAxis\"},{\"attributes\":{\"end\":50,\"margin\":[5,10,5,10],\"start\":0,\"title\":\"total_bill\",\"value\":10},\"id\":\"29909\",\"type\":\"Slider\"},{\"attributes\":{},\"id\":\"29934\",\"type\":\"PanTool\"}],\"root_ids\":[\"29905\",\"30139\"]},\"title\":\"Bokeh Application\",\"version\":\"2.4.2\"}};\n",
       "    var render_items = [{\"docid\":\"732f9991-0b34-4ef8-b0a3-2e8e8aa474f7\",\"root_ids\":[\"29905\"],\"roots\":{\"29905\":\"6766c620-dd56-45dd-af08-a8f1b27a17ee\"}}];\n",
       "    root.Bokeh.embed.embed_items_notebook(docs_json, render_items);\n",
       "  }\n",
       "  if (root.Bokeh !== undefined && root.Bokeh.Panel !== undefined && ( root['Tabulator'] !== undefined)) {\n",
       "    embed_document(root);\n",
       "  } else {\n",
       "    var attempts = 0;\n",
       "    var timer = setInterval(function(root) {\n",
       "      if (root.Bokeh !== undefined && root.Bokeh.Panel !== undefined && (root['Tabulator'] !== undefined)) {\n",
       "        clearInterval(timer);\n",
       "        embed_document(root);\n",
       "      } else if (document.readyState == \"complete\") {\n",
       "        attempts++;\n",
       "        if (attempts > 200) {\n",
       "          clearInterval(timer);\n",
       "          console.log(\"Bokeh: ERROR: Unable to run BokehJS code because BokehJS library is missing\");\n",
       "        }\n",
       "      }\n",
       "    }, 25, root)\n",
       "  }\n",
       "})(window);</script>"
      ],
      "text/plain": [
       "<hvplot.interactive.Interactive at 0x7fc6f4ebcfa0>"
      ]
     },
     "execution_count": 414,
     "metadata": {
      "application/vnd.holoviews_exec.v0+json": {
       "id": "29905"
      }
     },
     "output_type": "execute_result"
    }
   ],
   "source": [
    "tip_plot"
   ]
  },
  {
   "cell_type": "markdown",
   "id": "9789a854-dad3-4d35-b353-27c886892948",
   "metadata": {},
   "source": [
    "## Tips table "
   ]
  },
  {
   "cell_type": "code",
   "execution_count": 415,
   "id": "08493975-0511-49f1-a1ce-ff36cc2b59d7",
   "metadata": {},
   "outputs": [
    {
     "name": "stderr",
     "output_type": "stream",
     "text": [
      "WARNING:param.Tabulator129062: Setting non-parameter attribute sizing_mide=stretch_widths using a mechanism intended only for parameters\n"
     ]
    }
   ],
   "source": [
    "tip_table=tip_pipeline.pipe(pn.widgets.Tabulator, pagination='remote',page_size=10,sizing_mide='stretch_widths')"
   ]
  },
  {
   "cell_type": "code",
   "execution_count": 416,
   "id": "d70b32e0-3688-48dd-82e3-aef2be7293a6",
   "metadata": {},
   "outputs": [
    {
     "name": "stderr",
     "output_type": "stream",
     "text": [
      "WARNING:param.Tabulator129089: Setting non-parameter attribute sizing_mide=stretch_widths using a mechanism intended only for parameters\n"
     ]
    },
    {
     "data": {},
     "metadata": {},
     "output_type": "display_data"
    },
    {
     "data": {
      "application/vnd.holoviews_exec.v0+json": "",
      "text/html": [
       "<div id='30200'>\n",
       "\n",
       "\n",
       "\n",
       "\n",
       "\n",
       "  <div class=\"bk-root\" id=\"03581717-7151-487e-875c-4899f9ef1780\" data-root-id=\"30200\"></div>\n",
       "</div>\n",
       "<script type=\"application/javascript\">(function(root) {\n",
       "  function embed_document(root) {\n",
       "    var docs_json = {\"6819d9f6-696c-4428-a227-72241cf1e048\":{\"defs\":[{\"extends\":null,\"module\":null,\"name\":\"ReactiveHTML1\",\"overrides\":[],\"properties\":[]},{\"extends\":null,\"module\":null,\"name\":\"FlexBox1\",\"overrides\":[],\"properties\":[{\"default\":\"flex-start\",\"kind\":null,\"name\":\"align_content\"},{\"default\":\"flex-start\",\"kind\":null,\"name\":\"align_items\"},{\"default\":\"row\",\"kind\":null,\"name\":\"flex_direction\"},{\"default\":\"wrap\",\"kind\":null,\"name\":\"flex_wrap\"},{\"default\":\"flex-start\",\"kind\":null,\"name\":\"justify_content\"}]},{\"extends\":null,\"module\":null,\"name\":\"GridStack1\",\"overrides\":[],\"properties\":[{\"default\":\"warn\",\"kind\":null,\"name\":\"mode\"},{\"default\":null,\"kind\":null,\"name\":\"ncols\"},{\"default\":null,\"kind\":null,\"name\":\"nrows\"},{\"default\":true,\"kind\":null,\"name\":\"allow_resize\"},{\"default\":true,\"kind\":null,\"name\":\"allow_drag\"},{\"default\":[],\"kind\":null,\"name\":\"state\"}]},{\"extends\":null,\"module\":null,\"name\":\"click1\",\"overrides\":[],\"properties\":[{\"default\":\"\",\"kind\":null,\"name\":\"terminal_output\"},{\"default\":\"\",\"kind\":null,\"name\":\"debug_name\"},{\"default\":0,\"kind\":null,\"name\":\"clears\"}]},{\"extends\":null,\"module\":null,\"name\":\"TemplateActions1\",\"overrides\":[],\"properties\":[{\"default\":0,\"kind\":null,\"name\":\"open_modal\"},{\"default\":0,\"kind\":null,\"name\":\"close_modal\"}]},{\"extends\":null,\"module\":null,\"name\":\"MaterialTemplateActions1\",\"overrides\":[],\"properties\":[{\"default\":0,\"kind\":null,\"name\":\"open_modal\"},{\"default\":0,\"kind\":null,\"name\":\"close_modal\"}]}],\"roots\":{\"references\":[{\"attributes\":{\"editor\":{\"id\":\"30217\"},\"field\":\"sex\",\"formatter\":{\"id\":\"30216\"},\"title\":\"sex\",\"width\":0},\"id\":\"30218\",\"type\":\"TableColumn\"},{\"attributes\":{\"editor\":{\"id\":\"30212\"},\"field\":\"index\",\"formatter\":{\"id\":\"30210\"},\"title\":\"index\",\"width\":0},\"id\":\"30213\",\"type\":\"TableColumn\"},{\"attributes\":{\"editor\":{\"id\":\"30222\"},\"field\":\"total_bill\",\"formatter\":{\"id\":\"30221\"},\"title\":\"total_bill\",\"width\":0},\"id\":\"30223\",\"type\":\"TableColumn\"},{\"attributes\":{\"children\":[{\"id\":\"30202\"},{\"id\":\"30207\"}],\"margin\":[0,0,0,0],\"name\":\"Column129092\"},\"id\":\"30201\",\"type\":\"Column\"},{\"attributes\":{\"children\":[{\"id\":\"30203\"},{\"id\":\"30206\"}],\"margin\":[0,0,0,0],\"name\":\"Row129091\"},\"id\":\"30202\",\"type\":\"Row\"},{\"attributes\":{},\"id\":\"30212\",\"type\":\"CellEditor\"},{\"attributes\":{\"children\":[{\"id\":\"30231\"}],\"margin\":[0,0,0,0],\"name\":\"Row129068\"},\"id\":\"30207\",\"type\":\"Row\"},{\"attributes\":{\"margin\":[5,5,5,5],\"name\":\"HSpacer129090\",\"sizing_mode\":\"stretch_width\"},\"id\":\"30206\",\"type\":\"Spacer\"},{\"attributes\":{\"text_align\":\"right\"},\"id\":\"30221\",\"type\":\"NumberFormatter\"},{\"attributes\":{},\"id\":\"30222\",\"type\":\"IntEditor\"},{\"attributes\":{\"text_align\":\"left\"},\"id\":\"30210\",\"type\":\"NumberFormatter\"},{\"attributes\":{},\"id\":\"30216\",\"type\":\"StringFormatter\"},{\"attributes\":{\"data\":{\"index\":[0,1,2,3,4,5,6,7,8,9],\"sex\":[\"Male\",\"Female\",\"Male\",\"Female\",\"Male\",\"Female\",\"Male\",\"Female\",\"Male\",\"Female\"],\"tip\":{\"__ndarray__\":\"AAAAAAAA+H8AAAAAAADwPwAAAAAAAPh/AAAAAAAA8D8AAAAAAAACQAAAAAAAAPA/VVVVVVVV9T8AAAAAAADwPwAAAAAAAPA/AAAAAAAAEEA=\",\"dtype\":\"float64\",\"order\":\"little\",\"shape\":[10]},\"total_bill\":[3,3,5,5,7,7,8,8,9,9]},\"selected\":{\"id\":\"30209\"},\"selection_policy\":{\"id\":\"30233\"}},\"id\":\"30208\",\"type\":\"ColumnDataSource\"},{\"attributes\":{},\"id\":\"30217\",\"type\":\"StringEditor\"},{\"attributes\":{\"active\":0,\"button_type\":\"success\",\"labels\":[\"tip\"],\"margin\":[5,10,5,10]},\"id\":\"30205\",\"type\":\"RadioButtonGroup\"},{\"attributes\":{\"client_comm_id\":\"d3d5d0d3759145ff85ce3326fa6f1a65\",\"comm_id\":\"83ca40033f4e4398a655cf6e675d71b0\",\"plot_id\":\"30200\"},\"id\":\"30239\",\"type\":\"panel.models.comm_manager.CommManager\"},{\"attributes\":{},\"id\":\"30227\",\"type\":\"NumberEditor\"},{\"attributes\":{},\"id\":\"30233\",\"type\":\"UnionRenderers\"},{\"attributes\":{\"columns\":[{\"id\":\"30213\"},{\"id\":\"30218\"},{\"id\":\"30223\"},{\"id\":\"30228\"}],\"configuration\":{\"columns\":[{\"field\":\"index\"},{\"field\":\"sex\"},{\"field\":\"total_bill\"},{\"field\":\"tip\"}],\"dataTree\":false,\"selectable\":true},\"indexes\":[\"index\"],\"layout\":\"fit_data_table\",\"margin\":[5,10,5,10],\"max_page\":2,\"name\":\"\",\"page\":1,\"page_size\":10,\"pagination\":\"remote\",\"select_mode\":true,\"selectable_rows\":null,\"source\":{\"id\":\"30208\"},\"styles\":{\"data\":{},\"id\":\"390158f9045147ffa03c0872e4f83e87\"},\"subscribed_events\":[\"table-edit\",\"cell-click\"]},\"id\":\"30231\",\"type\":\"panel.models.tabulator.DataTabulator\"},{\"attributes\":{\"format\":\"0,0.0[00000]\",\"text_align\":\"right\"},\"id\":\"30226\",\"type\":\"NumberFormatter\"},{\"attributes\":{\"end\":50,\"margin\":[5,10,5,10],\"start\":0,\"title\":\"total_bill\",\"value\":10},\"id\":\"30204\",\"type\":\"Slider\"},{\"attributes\":{\"children\":[{\"id\":\"30201\"}],\"margin\":[0,0,0,0],\"name\":\"Row129093\"},\"id\":\"30200\",\"type\":\"Row\"},{\"attributes\":{\"editor\":{\"id\":\"30227\"},\"field\":\"tip\",\"formatter\":{\"id\":\"30226\"},\"title\":\"tip\",\"width\":0},\"id\":\"30228\",\"type\":\"TableColumn\"},{\"attributes\":{\"indices\":[]},\"id\":\"30209\",\"type\":\"Selection\"},{\"attributes\":{\"children\":[{\"id\":\"30204\"},{\"id\":\"30205\"}],\"margin\":[0,0,0,0],\"name\":\"Column129063\"},\"id\":\"30203\",\"type\":\"Column\"}],\"root_ids\":[\"30200\",\"30239\"]},\"title\":\"Bokeh Application\",\"version\":\"2.4.2\"}};\n",
       "    var render_items = [{\"docid\":\"6819d9f6-696c-4428-a227-72241cf1e048\",\"root_ids\":[\"30200\"],\"roots\":{\"30200\":\"03581717-7151-487e-875c-4899f9ef1780\"}}];\n",
       "    root.Bokeh.embed.embed_items_notebook(docs_json, render_items);\n",
       "  }\n",
       "  if (root.Bokeh !== undefined && root.Bokeh.Panel !== undefined && ( root['Tabulator'] !== undefined)) {\n",
       "    embed_document(root);\n",
       "  } else {\n",
       "    var attempts = 0;\n",
       "    var timer = setInterval(function(root) {\n",
       "      if (root.Bokeh !== undefined && root.Bokeh.Panel !== undefined && (root['Tabulator'] !== undefined)) {\n",
       "        clearInterval(timer);\n",
       "        embed_document(root);\n",
       "      } else if (document.readyState == \"complete\") {\n",
       "        attempts++;\n",
       "        if (attempts > 200) {\n",
       "          clearInterval(timer);\n",
       "          console.log(\"Bokeh: ERROR: Unable to run BokehJS code because BokehJS library is missing\");\n",
       "        }\n",
       "      }\n",
       "    }, 25, root)\n",
       "  }\n",
       "})(window);</script>"
      ],
      "text/plain": [
       "<hvplot.interactive.Interactive at 0x7fc6e462de20>"
      ]
     },
     "execution_count": 416,
     "metadata": {
      "application/vnd.holoviews_exec.v0+json": {
       "id": "30200"
      }
     },
     "output_type": "execute_result"
    }
   ],
   "source": [
    "tip_table"
   ]
  },
  {
   "cell_type": "markdown",
   "id": "2587e9c9-4e4f-4b12-a107-21f572f64013",
   "metadata": {},
   "source": [
    "## Scatter plot"
   ]
  },
  {
   "cell_type": "code",
   "execution_count": 417,
   "id": "58202450-ece6-45a7-92f0-047b384352e9",
   "metadata": {},
   "outputs": [],
   "source": [
    "tips_vs_bill_scatterplot_pipeline=(\n",
    "     tips[(tips.total_bill<=bill_slider)]\n",
    "    .groupby(['sex','total_bill','smoker'])[y_axis_tip].mean()\n",
    "    .to_frame()\n",
    "    .reset_index()\n",
    "    .sort_values(by='total_bill')\n",
    "    .reset_index(drop=True)\n",
    ")"
   ]
  },
  {
   "cell_type": "code",
   "execution_count": 418,
   "id": "a3d39e55-618f-4c6f-9439-fb7a4da5355e",
   "metadata": {},
   "outputs": [],
   "source": [
    "tip_scatterplot=tips_vs_bill_scatterplot_pipeline.hvplot(x='total_bill',by='smoker',y=y_axis_tip, title='', size=80,kind='scatter',legend=True,height=500, width=500)"
   ]
  },
  {
   "cell_type": "code",
   "execution_count": 419,
   "id": "064a2805-e2bb-475d-8b5c-9985e5163f1b",
   "metadata": {},
   "outputs": [
    {
     "data": {},
     "metadata": {},
     "output_type": "display_data"
    },
    {
     "data": {},
     "metadata": {},
     "output_type": "display_data"
    },
    {
     "data": {
      "application/vnd.holoviews_exec.v0+json": "",
      "text/html": [
       "<div id='30250'>\n",
       "\n",
       "\n",
       "\n",
       "\n",
       "\n",
       "  <div class=\"bk-root\" id=\"8cae0946-2cba-4e4d-9424-251357c038ee\" data-root-id=\"30250\"></div>\n",
       "</div>\n",
       "<script type=\"application/javascript\">(function(root) {\n",
       "  function embed_document(root) {\n",
       "    var docs_json = {\"85b0e2b2-65a2-4af7-8a75-c8b0d364ba79\":{\"defs\":[{\"extends\":null,\"module\":null,\"name\":\"ReactiveHTML1\",\"overrides\":[],\"properties\":[]},{\"extends\":null,\"module\":null,\"name\":\"FlexBox1\",\"overrides\":[],\"properties\":[{\"default\":\"flex-start\",\"kind\":null,\"name\":\"align_content\"},{\"default\":\"flex-start\",\"kind\":null,\"name\":\"align_items\"},{\"default\":\"row\",\"kind\":null,\"name\":\"flex_direction\"},{\"default\":\"wrap\",\"kind\":null,\"name\":\"flex_wrap\"},{\"default\":\"flex-start\",\"kind\":null,\"name\":\"justify_content\"}]},{\"extends\":null,\"module\":null,\"name\":\"GridStack1\",\"overrides\":[],\"properties\":[{\"default\":\"warn\",\"kind\":null,\"name\":\"mode\"},{\"default\":null,\"kind\":null,\"name\":\"ncols\"},{\"default\":null,\"kind\":null,\"name\":\"nrows\"},{\"default\":true,\"kind\":null,\"name\":\"allow_resize\"},{\"default\":true,\"kind\":null,\"name\":\"allow_drag\"},{\"default\":[],\"kind\":null,\"name\":\"state\"}]},{\"extends\":null,\"module\":null,\"name\":\"click1\",\"overrides\":[],\"properties\":[{\"default\":\"\",\"kind\":null,\"name\":\"terminal_output\"},{\"default\":\"\",\"kind\":null,\"name\":\"debug_name\"},{\"default\":0,\"kind\":null,\"name\":\"clears\"}]},{\"extends\":null,\"module\":null,\"name\":\"TemplateActions1\",\"overrides\":[],\"properties\":[{\"default\":0,\"kind\":null,\"name\":\"open_modal\"},{\"default\":0,\"kind\":null,\"name\":\"close_modal\"}]},{\"extends\":null,\"module\":null,\"name\":\"MaterialTemplateActions1\",\"overrides\":[],\"properties\":[{\"default\":0,\"kind\":null,\"name\":\"open_modal\"},{\"default\":0,\"kind\":null,\"name\":\"close_modal\"}]}],\"roots\":{\"references\":[{\"attributes\":{},\"id\":\"30269\",\"type\":\"LinearScale\"},{\"attributes\":{\"fill_alpha\":{\"value\":0.2},\"fill_color\":{\"value\":\"#fc4f30\"},\"hatch_alpha\":{\"value\":0.2},\"hatch_color\":{\"value\":\"#fc4f30\"},\"line_alpha\":{\"value\":0.2},\"line_color\":{\"value\":\"#fc4f30\"},\"size\":{\"value\":8.94427190999916},\"x\":{\"field\":\"total_bill\"},\"y\":{\"field\":\"tip\"}},\"id\":\"30324\",\"type\":\"Scatter\"},{\"attributes\":{\"data\":{\"smoker\":[1,1,1,1,1,1,1,1,1,1,1,1],\"tip\":{\"__ndarray__\":\"AAAAAAAA+H8AAAAAAADwPwAAAAAAAPh/AAAAAAAA8D8AAAAAAAAIQAAAAAAAAPh/AAAAAAAA+H8AAAAAAADwPwAAAAAAABBAAAAAAAAA+H8AAAAAAAAAQKuqqqqqqvo/\",\"dtype\":\"float64\",\"order\":\"little\",\"shape\":[12]},\"total_bill\":[3,3,5,5,7,7,8,8,9,9,10,10]},\"selected\":{\"id\":\"30320\"},\"selection_policy\":{\"id\":\"30336\"}},\"id\":\"30319\",\"type\":\"ColumnDataSource\"},{\"attributes\":{\"fill_alpha\":{\"value\":0.1},\"fill_color\":{\"value\":\"#30a2da\"},\"hatch_alpha\":{\"value\":0.1},\"hatch_color\":{\"value\":\"#30a2da\"},\"line_alpha\":{\"value\":0.1},\"line_color\":{\"value\":\"#30a2da\"},\"size\":{\"value\":8.94427190999916},\"x\":{\"field\":\"total_bill\"},\"y\":{\"field\":\"tip\"}},\"id\":\"30302\",\"type\":\"Scatter\"},{\"attributes\":{},\"id\":\"30299\",\"type\":\"Selection\"},{\"attributes\":{\"end\":10.7,\"reset_end\":10.7,\"reset_start\":2.3,\"start\":2.3,\"tags\":[[[\"total_bill\",\"total_bill\",null]]]},\"id\":\"30258\",\"type\":\"Range1d\"},{\"attributes\":{\"children\":[{\"id\":\"30253\"},{\"id\":\"30256\"}],\"margin\":[0,0,0,0],\"name\":\"Row129508\"},\"id\":\"30252\",\"type\":\"Row\"},{\"attributes\":{\"margin\":[5,5,5,5],\"name\":\"HSpacer129507\",\"sizing_mode\":\"stretch_width\"},\"id\":\"30256\",\"type\":\"Spacer\"},{\"attributes\":{\"below\":[{\"id\":\"30271\"}],\"center\":[{\"id\":\"30274\"},{\"id\":\"30278\"}],\"height\":500,\"left\":[{\"id\":\"30275\"}],\"margin\":[5,5,5,5],\"min_border_bottom\":10,\"min_border_left\":10,\"min_border_right\":10,\"min_border_top\":10,\"renderers\":[{\"id\":\"30304\"},{\"id\":\"30325\"}],\"right\":[{\"id\":\"30316\"}],\"sizing_mode\":\"fixed\",\"title\":{\"id\":\"30263\"},\"toolbar\":{\"id\":\"30285\"},\"width\":500,\"x_range\":{\"id\":\"30258\"},\"x_scale\":{\"id\":\"30267\"},\"y_range\":{\"id\":\"30259\"},\"y_scale\":{\"id\":\"30269\"}},\"id\":\"30262\",\"subtype\":\"Figure\",\"type\":\"Plot\"},{\"attributes\":{},\"id\":\"30267\",\"type\":\"LinearScale\"},{\"attributes\":{\"click_policy\":\"mute\",\"coordinates\":null,\"group\":null,\"items\":[{\"id\":\"30317\"},{\"id\":\"30339\"}],\"location\":[0,0],\"title\":\"smoker\"},\"id\":\"30316\",\"type\":\"Legend\"},{\"attributes\":{\"fill_color\":{\"value\":\"#fc4f30\"},\"hatch_color\":{\"value\":\"#fc4f30\"},\"line_color\":{\"value\":\"#fc4f30\"},\"size\":{\"value\":8.94427190999916},\"x\":{\"field\":\"total_bill\"},\"y\":{\"field\":\"tip\"}},\"id\":\"30322\",\"type\":\"Scatter\"},{\"attributes\":{},\"id\":\"30276\",\"type\":\"BasicTicker\"},{\"attributes\":{},\"id\":\"30313\",\"type\":\"UnionRenderers\"},{\"attributes\":{\"callback\":null,\"renderers\":[{\"id\":\"30304\"},{\"id\":\"30325\"}],\"tags\":[\"hv_created\"],\"tooltips\":[[\"smoker\",\"@{smoker}\"],[\"total_bill\",\"@{total_bill}\"],[\"tip\",\"@{tip}\"]]},\"id\":\"30260\",\"type\":\"HoverTool\"},{\"attributes\":{\"label\":{\"value\":\"1\"},\"renderers\":[{\"id\":\"30325\"}]},\"id\":\"30339\",\"type\":\"LegendItem\"},{\"attributes\":{},\"id\":\"30280\",\"type\":\"PanTool\"},{\"attributes\":{\"fill_color\":{\"value\":\"#30a2da\"},\"hatch_color\":{\"value\":\"#30a2da\"},\"line_color\":{\"value\":\"#30a2da\"},\"size\":{\"value\":8.94427190999916},\"x\":{\"field\":\"total_bill\"},\"y\":{\"field\":\"tip\"}},\"id\":\"30301\",\"type\":\"Scatter\"},{\"attributes\":{\"coordinates\":null,\"group\":null,\"text_color\":\"black\",\"text_font_size\":\"12pt\"},\"id\":\"30263\",\"type\":\"Title\"},{\"attributes\":{},\"id\":\"30297\",\"type\":\"AllLabels\"},{\"attributes\":{\"children\":[{\"id\":\"30252\"},{\"id\":\"30257\"}],\"margin\":[0,0,0,0],\"name\":\"Column129509\"},\"id\":\"30251\",\"type\":\"Column\"},{\"attributes\":{\"angle\":{\"value\":0.0},\"fill_alpha\":{\"value\":1.0},\"fill_color\":{\"value\":\"#fc4f30\"},\"hatch_alpha\":{\"value\":1.0},\"hatch_color\":{\"value\":\"#fc4f30\"},\"hatch_scale\":{\"value\":12.0},\"hatch_weight\":{\"value\":1.0},\"line_alpha\":{\"value\":1.0},\"line_cap\":{\"value\":\"butt\"},\"line_color\":{\"value\":\"#fc4f30\"},\"line_dash\":{\"value\":[]},\"line_dash_offset\":{\"value\":0},\"line_join\":{\"value\":\"bevel\"},\"line_width\":{\"value\":1},\"marker\":{\"value\":\"circle\"},\"size\":{\"value\":8.94427190999916},\"x\":{\"field\":\"total_bill\"},\"y\":{\"field\":\"tip\"}},\"id\":\"30340\",\"type\":\"Scatter\"},{\"attributes\":{\"end\":4.3,\"reset_end\":4.3,\"reset_start\":0.7,\"start\":0.7,\"tags\":[[[\"tip\",\"tip\",null]]]},\"id\":\"30259\",\"type\":\"Range1d\"},{\"attributes\":{\"axis\":{\"id\":\"30271\"},\"coordinates\":null,\"grid_line_color\":null,\"group\":null,\"ticker\":null},\"id\":\"30274\",\"type\":\"Grid\"},{\"attributes\":{\"label\":{\"value\":\"0\"},\"renderers\":[{\"id\":\"30304\"}]},\"id\":\"30317\",\"type\":\"LegendItem\"},{\"attributes\":{\"active\":0,\"button_type\":\"success\",\"labels\":[\"tip\"],\"margin\":[5,10,5,10]},\"id\":\"30255\",\"type\":\"RadioButtonGroup\"},{\"attributes\":{\"coordinates\":null,\"data_source\":{\"id\":\"30319\"},\"glyph\":{\"id\":\"30322\"},\"group\":null,\"hover_glyph\":null,\"muted_glyph\":{\"id\":\"30324\"},\"nonselection_glyph\":{\"id\":\"30323\"},\"selection_glyph\":{\"id\":\"30340\"},\"view\":{\"id\":\"30326\"}},\"id\":\"30325\",\"type\":\"GlyphRenderer\"},{\"attributes\":{\"coordinates\":null,\"data_source\":{\"id\":\"30298\"},\"glyph\":{\"id\":\"30301\"},\"group\":null,\"hover_glyph\":null,\"muted_glyph\":{\"id\":\"30303\"},\"nonselection_glyph\":{\"id\":\"30302\"},\"selection_glyph\":{\"id\":\"30318\"},\"view\":{\"id\":\"30305\"}},\"id\":\"30304\",\"type\":\"GlyphRenderer\"},{\"attributes\":{\"children\":[{\"id\":\"30254\"},{\"id\":\"30255\"}],\"margin\":[0,0,0,0],\"name\":\"Column129371\"},\"id\":\"30253\",\"type\":\"Column\"},{\"attributes\":{\"axis_label\":\"total_bill\",\"coordinates\":null,\"formatter\":{\"id\":\"30293\"},\"group\":null,\"major_label_policy\":{\"id\":\"30294\"},\"ticker\":{\"id\":\"30272\"}},\"id\":\"30271\",\"type\":\"LinearAxis\"},{\"attributes\":{\"source\":{\"id\":\"30298\"}},\"id\":\"30305\",\"type\":\"CDSView\"},{\"attributes\":{\"fill_alpha\":{\"value\":0.1},\"fill_color\":{\"value\":\"#fc4f30\"},\"hatch_alpha\":{\"value\":0.1},\"hatch_color\":{\"value\":\"#fc4f30\"},\"line_alpha\":{\"value\":0.1},\"line_color\":{\"value\":\"#fc4f30\"},\"size\":{\"value\":8.94427190999916},\"x\":{\"field\":\"total_bill\"},\"y\":{\"field\":\"tip\"}},\"id\":\"30323\",\"type\":\"Scatter\"},{\"attributes\":{},\"id\":\"30272\",\"type\":\"BasicTicker\"},{\"attributes\":{\"axis\":{\"id\":\"30275\"},\"coordinates\":null,\"dimension\":1,\"grid_line_color\":null,\"group\":null,\"ticker\":null},\"id\":\"30278\",\"type\":\"Grid\"},{\"attributes\":{\"fill_alpha\":{\"value\":0.2},\"fill_color\":{\"value\":\"#30a2da\"},\"hatch_alpha\":{\"value\":0.2},\"hatch_color\":{\"value\":\"#30a2da\"},\"line_alpha\":{\"value\":0.2},\"line_color\":{\"value\":\"#30a2da\"},\"size\":{\"value\":8.94427190999916},\"x\":{\"field\":\"total_bill\"},\"y\":{\"field\":\"tip\"}},\"id\":\"30303\",\"type\":\"Scatter\"},{\"attributes\":{\"client_comm_id\":\"53444122f4684d1bba3cd0988b202148\",\"comm_id\":\"e9b761e45abf4b90a5a29041e65452b8\",\"plot_id\":\"30250\"},\"id\":\"30485\",\"type\":\"panel.models.comm_manager.CommManager\"},{\"attributes\":{\"children\":[{\"id\":\"30251\"}],\"margin\":[0,0,0,0],\"name\":\"Row129510\"},\"id\":\"30250\",\"type\":\"Row\"},{\"attributes\":{\"axis_label\":\"tip\",\"coordinates\":null,\"formatter\":{\"id\":\"30296\"},\"group\":null,\"major_label_policy\":{\"id\":\"30297\"},\"ticker\":{\"id\":\"30276\"}},\"id\":\"30275\",\"type\":\"LinearAxis\"},{\"attributes\":{\"end\":50,\"margin\":[5,10,5,10],\"start\":0,\"title\":\"total_bill\",\"value\":10},\"id\":\"30254\",\"type\":\"Slider\"},{\"attributes\":{\"source\":{\"id\":\"30319\"}},\"id\":\"30326\",\"type\":\"CDSView\"},{\"attributes\":{},\"id\":\"30294\",\"type\":\"AllLabels\"},{\"attributes\":{\"data\":{\"smoker\":[0,0,0,0,0,0,0,0,0,0,0,0],\"tip\":{\"__ndarray__\":\"AAAAAAAA+H8AAAAAAAD4fwAAAAAAAPh/AAAAAAAA+H8AAAAAAAD4PwAAAAAAAPA/AAAAAAAA8D8AAAAAAAD4PwAAAAAAAPA/AAAAAAAA+H8AAAAAAADwP2ZmZmZmZvY/\",\"dtype\":\"float64\",\"order\":\"little\",\"shape\":[12]},\"total_bill\":[3,3,5,5,7,7,8,8,9,9,10,10]},\"selected\":{\"id\":\"30299\"},\"selection_policy\":{\"id\":\"30313\"}},\"id\":\"30298\",\"type\":\"ColumnDataSource\"},{\"attributes\":{},\"id\":\"30281\",\"type\":\"WheelZoomTool\"},{\"attributes\":{},\"id\":\"30279\",\"type\":\"SaveTool\"},{\"attributes\":{},\"id\":\"30296\",\"type\":\"BasicTickFormatter\"},{\"attributes\":{},\"id\":\"30336\",\"type\":\"UnionRenderers\"},{\"attributes\":{\"overlay\":{\"id\":\"30284\"}},\"id\":\"30282\",\"type\":\"BoxZoomTool\"},{\"attributes\":{},\"id\":\"30283\",\"type\":\"ResetTool\"},{\"attributes\":{\"children\":[{\"id\":\"30262\"}],\"margin\":[0,0,0,0],\"name\":\"Row129376\"},\"id\":\"30257\",\"type\":\"Row\"},{\"attributes\":{},\"id\":\"30320\",\"type\":\"Selection\"},{\"attributes\":{\"bottom_units\":\"screen\",\"coordinates\":null,\"fill_alpha\":0.5,\"fill_color\":\"lightgrey\",\"group\":null,\"left_units\":\"screen\",\"level\":\"overlay\",\"line_alpha\":1.0,\"line_color\":\"black\",\"line_dash\":[4,4],\"line_width\":2,\"right_units\":\"screen\",\"syncable\":false,\"top_units\":\"screen\"},\"id\":\"30284\",\"type\":\"BoxAnnotation\"},{\"attributes\":{\"tools\":[{\"id\":\"30260\"},{\"id\":\"30279\"},{\"id\":\"30280\"},{\"id\":\"30281\"},{\"id\":\"30282\"},{\"id\":\"30283\"}]},\"id\":\"30285\",\"type\":\"Toolbar\"},{\"attributes\":{\"angle\":{\"value\":0.0},\"fill_alpha\":{\"value\":1.0},\"fill_color\":{\"value\":\"#30a2da\"},\"hatch_alpha\":{\"value\":1.0},\"hatch_color\":{\"value\":\"#30a2da\"},\"hatch_scale\":{\"value\":12.0},\"hatch_weight\":{\"value\":1.0},\"line_alpha\":{\"value\":1.0},\"line_cap\":{\"value\":\"butt\"},\"line_color\":{\"value\":\"#30a2da\"},\"line_dash\":{\"value\":[]},\"line_dash_offset\":{\"value\":0},\"line_join\":{\"value\":\"bevel\"},\"line_width\":{\"value\":1},\"marker\":{\"value\":\"circle\"},\"size\":{\"value\":8.94427190999916},\"x\":{\"field\":\"total_bill\"},\"y\":{\"field\":\"tip\"}},\"id\":\"30318\",\"type\":\"Scatter\"},{\"attributes\":{},\"id\":\"30293\",\"type\":\"BasicTickFormatter\"}],\"root_ids\":[\"30250\",\"30485\"]},\"title\":\"Bokeh Application\",\"version\":\"2.4.2\"}};\n",
       "    var render_items = [{\"docid\":\"85b0e2b2-65a2-4af7-8a75-c8b0d364ba79\",\"root_ids\":[\"30250\"],\"roots\":{\"30250\":\"8cae0946-2cba-4e4d-9424-251357c038ee\"}}];\n",
       "    root.Bokeh.embed.embed_items_notebook(docs_json, render_items);\n",
       "  }\n",
       "  if (root.Bokeh !== undefined && root.Bokeh.Panel !== undefined && ( root['Tabulator'] !== undefined)) {\n",
       "    embed_document(root);\n",
       "  } else {\n",
       "    var attempts = 0;\n",
       "    var timer = setInterval(function(root) {\n",
       "      if (root.Bokeh !== undefined && root.Bokeh.Panel !== undefined && (root['Tabulator'] !== undefined)) {\n",
       "        clearInterval(timer);\n",
       "        embed_document(root);\n",
       "      } else if (document.readyState == \"complete\") {\n",
       "        attempts++;\n",
       "        if (attempts > 200) {\n",
       "          clearInterval(timer);\n",
       "          console.log(\"Bokeh: ERROR: Unable to run BokehJS code because BokehJS library is missing\");\n",
       "        }\n",
       "      }\n",
       "    }, 25, root)\n",
       "  }\n",
       "})(window);</script>"
      ],
      "text/plain": [
       "<hvplot.interactive.Interactive at 0x7fc6e42be130>"
      ]
     },
     "execution_count": 419,
     "metadata": {
      "application/vnd.holoviews_exec.v0+json": {
       "id": "30250"
      }
     },
     "output_type": "execute_result"
    }
   ],
   "source": [
    "tip_scatterplot"
   ]
  },
  {
   "cell_type": "markdown",
   "id": "6ac3f75e-a587-4fb8-b5d5-43647a1ee83f",
   "metadata": {},
   "source": [
    "##  Bar plot"
   ]
  },
  {
   "cell_type": "code",
   "execution_count": 439,
   "id": "5dd28be8-e263-405e-806f-e06e92f1d360",
   "metadata": {},
   "outputs": [],
   "source": [
    "yaxis_tip_source = pn.widgets.RadioButtonGroup(\n",
    "    name='Y axis', \n",
    "    options=['smoker','time','total_bill'], \n",
    "    button_type='success'\n",
    ")\n",
    "\n",
    "tip_source_bar_pipeline = (\n",
    "    tips[\n",
    "        (tips.total_bill == bill_slider) &\n",
    "        (tips.sex.isin(sex))\n",
    "    ]\n",
    "    .groupby(['total_bill','smoker','time'])[y_axis_tip].sum()\n",
    "    .to_frame()\n",
    "    .reset_index()\n",
    "    .sort_values(by='tip')  \n",
    "    .reset_index(drop=True)\n",
    ")"
   ]
  },
  {
   "cell_type": "code",
   "execution_count": 440,
   "id": "3a35699f-848f-4d13-9ca9-79fd4d725141",
   "metadata": {},
   "outputs": [
    {
     "data": {},
     "metadata": {},
     "output_type": "display_data"
    },
    {
     "data": {
      "application/vnd.holoviews_exec.v0+json": "",
      "text/html": [
       "<div id='45372'>\n",
       "\n",
       "\n",
       "\n",
       "\n",
       "\n",
       "  <div class=\"bk-root\" id=\"9d904aea-731c-44a1-bb04-859fca65df77\" data-root-id=\"45372\"></div>\n",
       "</div>\n",
       "<script type=\"application/javascript\">(function(root) {\n",
       "  function embed_document(root) {\n",
       "    var docs_json = {\"45a3ed22-2bf5-4cbd-a147-9716e5eb22e9\":{\"defs\":[{\"extends\":null,\"module\":null,\"name\":\"ReactiveHTML1\",\"overrides\":[],\"properties\":[]},{\"extends\":null,\"module\":null,\"name\":\"FlexBox1\",\"overrides\":[],\"properties\":[{\"default\":\"flex-start\",\"kind\":null,\"name\":\"align_content\"},{\"default\":\"flex-start\",\"kind\":null,\"name\":\"align_items\"},{\"default\":\"row\",\"kind\":null,\"name\":\"flex_direction\"},{\"default\":\"wrap\",\"kind\":null,\"name\":\"flex_wrap\"},{\"default\":\"flex-start\",\"kind\":null,\"name\":\"justify_content\"}]},{\"extends\":null,\"module\":null,\"name\":\"GridStack1\",\"overrides\":[],\"properties\":[{\"default\":\"warn\",\"kind\":null,\"name\":\"mode\"},{\"default\":null,\"kind\":null,\"name\":\"ncols\"},{\"default\":null,\"kind\":null,\"name\":\"nrows\"},{\"default\":true,\"kind\":null,\"name\":\"allow_resize\"},{\"default\":true,\"kind\":null,\"name\":\"allow_drag\"},{\"default\":[],\"kind\":null,\"name\":\"state\"}]},{\"extends\":null,\"module\":null,\"name\":\"click1\",\"overrides\":[],\"properties\":[{\"default\":\"\",\"kind\":null,\"name\":\"terminal_output\"},{\"default\":\"\",\"kind\":null,\"name\":\"debug_name\"},{\"default\":0,\"kind\":null,\"name\":\"clears\"}]},{\"extends\":null,\"module\":null,\"name\":\"TemplateActions1\",\"overrides\":[],\"properties\":[{\"default\":0,\"kind\":null,\"name\":\"open_modal\"},{\"default\":0,\"kind\":null,\"name\":\"close_modal\"}]},{\"extends\":null,\"module\":null,\"name\":\"MaterialTemplateActions1\",\"overrides\":[],\"properties\":[{\"default\":0,\"kind\":null,\"name\":\"open_modal\"},{\"default\":0,\"kind\":null,\"name\":\"close_modal\"}]}],\"roots\":{\"references\":[{\"attributes\":{\"active\":0,\"button_type\":\"success\",\"labels\":[\"smoker\",\"time\",\"total_bill\"],\"margin\":[5,10,5,10]},\"id\":\"45372\",\"type\":\"RadioButtonGroup\"},{\"attributes\":{\"client_comm_id\":\"5b6589d9b4b14502aaf7bc98833cf22b\",\"comm_id\":\"e1131d220c0044aab4f6ff14fd3194c8\",\"plot_id\":\"45372\"},\"id\":\"45373\",\"type\":\"panel.models.comm_manager.CommManager\"}],\"root_ids\":[\"45372\",\"45373\"]},\"title\":\"Bokeh Application\",\"version\":\"2.4.2\"}};\n",
       "    var render_items = [{\"docid\":\"45a3ed22-2bf5-4cbd-a147-9716e5eb22e9\",\"root_ids\":[\"45372\"],\"roots\":{\"45372\":\"9d904aea-731c-44a1-bb04-859fca65df77\"}}];\n",
       "    root.Bokeh.embed.embed_items_notebook(docs_json, render_items);\n",
       "  }\n",
       "  if (root.Bokeh !== undefined && root.Bokeh.Panel !== undefined && ( root['Tabulator'] !== undefined)) {\n",
       "    embed_document(root);\n",
       "  } else {\n",
       "    var attempts = 0;\n",
       "    var timer = setInterval(function(root) {\n",
       "      if (root.Bokeh !== undefined && root.Bokeh.Panel !== undefined && (root['Tabulator'] !== undefined)) {\n",
       "        clearInterval(timer);\n",
       "        embed_document(root);\n",
       "      } else if (document.readyState == \"complete\") {\n",
       "        attempts++;\n",
       "        if (attempts > 200) {\n",
       "          clearInterval(timer);\n",
       "          console.log(\"Bokeh: ERROR: Unable to run BokehJS code because BokehJS library is missing\");\n",
       "        }\n",
       "      }\n",
       "    }, 25, root)\n",
       "  }\n",
       "})(window);</script>"
      ],
      "text/plain": [
       "RadioButtonGroup(button_type='success', name='Y axis', options=['smoker', 'time', ...], value='smoker')"
      ]
     },
     "execution_count": 440,
     "metadata": {
      "application/vnd.holoviews_exec.v0+json": {
       "id": "45372"
      }
     },
     "output_type": "execute_result"
    }
   ],
   "source": [
    "yaxis_tip_source"
   ]
  },
  {
   "cell_type": "code",
   "execution_count": 441,
   "id": "f5585a26-0486-4b82-8198-8398401c8618",
   "metadata": {},
   "outputs": [
    {
     "data": {},
     "metadata": {},
     "output_type": "display_data"
    },
    {
     "data": {
      "application/vnd.holoviews_exec.v0+json": "",
      "text/html": [
       "<div id='45374'>\n",
       "\n",
       "\n",
       "\n",
       "\n",
       "\n",
       "  <div class=\"bk-root\" id=\"77f2c2f9-9c3a-4d5d-b9f9-6adb864f207d\" data-root-id=\"45374\"></div>\n",
       "</div>\n",
       "<script type=\"application/javascript\">(function(root) {\n",
       "  function embed_document(root) {\n",
       "    var docs_json = {\"8ac4f5c6-0ad4-42c4-9f22-33bc354d6512\":{\"defs\":[{\"extends\":null,\"module\":null,\"name\":\"ReactiveHTML1\",\"overrides\":[],\"properties\":[]},{\"extends\":null,\"module\":null,\"name\":\"FlexBox1\",\"overrides\":[],\"properties\":[{\"default\":\"flex-start\",\"kind\":null,\"name\":\"align_content\"},{\"default\":\"flex-start\",\"kind\":null,\"name\":\"align_items\"},{\"default\":\"row\",\"kind\":null,\"name\":\"flex_direction\"},{\"default\":\"wrap\",\"kind\":null,\"name\":\"flex_wrap\"},{\"default\":\"flex-start\",\"kind\":null,\"name\":\"justify_content\"}]},{\"extends\":null,\"module\":null,\"name\":\"GridStack1\",\"overrides\":[],\"properties\":[{\"default\":\"warn\",\"kind\":null,\"name\":\"mode\"},{\"default\":null,\"kind\":null,\"name\":\"ncols\"},{\"default\":null,\"kind\":null,\"name\":\"nrows\"},{\"default\":true,\"kind\":null,\"name\":\"allow_resize\"},{\"default\":true,\"kind\":null,\"name\":\"allow_drag\"},{\"default\":[],\"kind\":null,\"name\":\"state\"}]},{\"extends\":null,\"module\":null,\"name\":\"click1\",\"overrides\":[],\"properties\":[{\"default\":\"\",\"kind\":null,\"name\":\"terminal_output\"},{\"default\":\"\",\"kind\":null,\"name\":\"debug_name\"},{\"default\":0,\"kind\":null,\"name\":\"clears\"}]},{\"extends\":null,\"module\":null,\"name\":\"TemplateActions1\",\"overrides\":[],\"properties\":[{\"default\":0,\"kind\":null,\"name\":\"open_modal\"},{\"default\":0,\"kind\":null,\"name\":\"close_modal\"}]},{\"extends\":null,\"module\":null,\"name\":\"MaterialTemplateActions1\",\"overrides\":[],\"properties\":[{\"default\":0,\"kind\":null,\"name\":\"open_modal\"},{\"default\":0,\"kind\":null,\"name\":\"close_modal\"}]}],\"roots\":{\"references\":[{\"attributes\":{\"children\":[{\"id\":\"45377\"},{\"id\":\"45380\"}],\"margin\":[0,0,0,0],\"name\":\"Row181663\"},\"id\":\"45376\",\"type\":\"Row\"},{\"attributes\":{\"client_comm_id\":\"0e12930bd70740b6a5bb4b75cf2d8376\",\"comm_id\":\"50ff96900f8747f7b35308a021e2d4ef\",\"plot_id\":\"45374\"},\"id\":\"45383\",\"type\":\"panel.models.comm_manager.CommManager\"},{\"attributes\":{\"children\":[{\"id\":\"45376\"},{\"id\":\"45381\"}],\"margin\":[0,0,0,0],\"name\":\"Column181664\"},\"id\":\"45375\",\"type\":\"Column\"},{\"attributes\":{\"margin\":[5,5,5,5],\"name\":\"HSpacer181662\",\"sizing_mode\":\"stretch_width\"},\"id\":\"45380\",\"type\":\"Spacer\"},{\"attributes\":{\"end\":50,\"margin\":[5,10,5,10],\"start\":0,\"title\":\"total_bill\",\"value\":18},\"id\":\"45378\",\"type\":\"Slider\"},{\"attributes\":{\"children\":[{\"id\":\"45378\"},{\"id\":\"45379\"}],\"margin\":[0,0,0,0],\"name\":\"Column181634\"},\"id\":\"45377\",\"type\":\"Column\"},{\"attributes\":{\"children\":[{\"id\":\"45382\"}],\"margin\":[0,0,0,0],\"name\":\"Row181639\"},\"id\":\"45381\",\"type\":\"Row\"},{\"attributes\":{\"margin\":[5,5,5,5],\"name\":\"DataFrame181660\",\"text\":\"&lt;table border=&quot;0&quot; class=&quot;dataframe panel-df&quot;&gt;\\n  &lt;thead&gt;\\n    &lt;tr style=&quot;text-align: right;&quot;&gt;\\n      &lt;th&gt;&lt;/th&gt;\\n      &lt;th&gt;total_bill&lt;/th&gt;\\n      &lt;th&gt;smoker&lt;/th&gt;\\n      &lt;th&gt;time&lt;/th&gt;\\n      &lt;th&gt;tip&lt;/th&gt;\\n    &lt;/tr&gt;\\n  &lt;/thead&gt;\\n  &lt;tbody&gt;\\n    &lt;tr&gt;\\n      &lt;th&gt;0&lt;/th&gt;\\n      &lt;td&gt;18&lt;/td&gt;\\n      &lt;td&gt;1&lt;/td&gt;\\n      &lt;td&gt;12&lt;/td&gt;\\n      &lt;td&gt;4&lt;/td&gt;\\n    &lt;/tr&gt;\\n    &lt;tr&gt;\\n      &lt;th&gt;1&lt;/th&gt;\\n      &lt;td&gt;18&lt;/td&gt;\\n      &lt;td&gt;1&lt;/td&gt;\\n      &lt;td&gt;20&lt;/td&gt;\\n      &lt;td&gt;6&lt;/td&gt;\\n    &lt;/tr&gt;\\n    &lt;tr&gt;\\n      &lt;th&gt;2&lt;/th&gt;\\n      &lt;td&gt;18&lt;/td&gt;\\n      &lt;td&gt;0&lt;/td&gt;\\n      &lt;td&gt;12&lt;/td&gt;\\n      &lt;td&gt;8&lt;/td&gt;\\n    &lt;/tr&gt;\\n    &lt;tr&gt;\\n      &lt;th&gt;3&lt;/th&gt;\\n      &lt;td&gt;18&lt;/td&gt;\\n      &lt;td&gt;0&lt;/td&gt;\\n      &lt;td&gt;20&lt;/td&gt;\\n      &lt;td&gt;19&lt;/td&gt;\\n    &lt;/tr&gt;\\n  &lt;/tbody&gt;\\n&lt;/table&gt;\"},\"id\":\"45382\",\"type\":\"panel.models.markup.HTML\"},{\"attributes\":{\"children\":[{\"id\":\"45375\"}],\"margin\":[0,0,0,0],\"name\":\"Row181665\"},\"id\":\"45374\",\"type\":\"Row\"},{\"attributes\":{\"active\":0,\"button_type\":\"success\",\"labels\":[\"tip\"],\"margin\":[5,10,5,10]},\"id\":\"45379\",\"type\":\"RadioButtonGroup\"}],\"root_ids\":[\"45374\",\"45383\"]},\"title\":\"Bokeh Application\",\"version\":\"2.4.2\"}};\n",
       "    var render_items = [{\"docid\":\"8ac4f5c6-0ad4-42c4-9f22-33bc354d6512\",\"root_ids\":[\"45374\"],\"roots\":{\"45374\":\"77f2c2f9-9c3a-4d5d-b9f9-6adb864f207d\"}}];\n",
       "    root.Bokeh.embed.embed_items_notebook(docs_json, render_items);\n",
       "  }\n",
       "  if (root.Bokeh !== undefined && root.Bokeh.Panel !== undefined && ( root['Tabulator'] !== undefined)) {\n",
       "    embed_document(root);\n",
       "  } else {\n",
       "    var attempts = 0;\n",
       "    var timer = setInterval(function(root) {\n",
       "      if (root.Bokeh !== undefined && root.Bokeh.Panel !== undefined && (root['Tabulator'] !== undefined)) {\n",
       "        clearInterval(timer);\n",
       "        embed_document(root);\n",
       "      } else if (document.readyState == \"complete\") {\n",
       "        attempts++;\n",
       "        if (attempts > 200) {\n",
       "          clearInterval(timer);\n",
       "          console.log(\"Bokeh: ERROR: Unable to run BokehJS code because BokehJS library is missing\");\n",
       "        }\n",
       "      }\n",
       "    }, 25, root)\n",
       "  }\n",
       "})(window);</script>"
      ],
      "text/plain": [
       "<hvplot.interactive.Interactive at 0x7fc6d62d1ee0>"
      ]
     },
     "execution_count": 441,
     "metadata": {
      "application/vnd.holoviews_exec.v0+json": {
       "id": "45374"
      }
     },
     "output_type": "execute_result"
    }
   ],
   "source": [
    "tip_source_bar_pipeline"
   ]
  },
  {
   "cell_type": "code",
   "execution_count": 442,
   "id": "98b878c4-d97c-4491-9a20-6c9dabed33dc",
   "metadata": {},
   "outputs": [
    {
     "data": {},
     "metadata": {},
     "output_type": "display_data"
    },
    {
     "data": {},
     "metadata": {},
     "output_type": "display_data"
    },
    {
     "data": {
      "application/vnd.holoviews_exec.v0+json": "",
      "text/html": [
       "<div id='45384'>\n",
       "\n",
       "\n",
       "\n",
       "\n",
       "\n",
       "  <div class=\"bk-root\" id=\"4ea38f27-d8cb-4f2e-8e14-ee650882b7bc\" data-root-id=\"45384\"></div>\n",
       "</div>\n",
       "<script type=\"application/javascript\">(function(root) {\n",
       "  function embed_document(root) {\n",
       "    var docs_json = {\"2e44c793-80b8-428e-aeff-bc5a80c8014a\":{\"defs\":[{\"extends\":null,\"module\":null,\"name\":\"ReactiveHTML1\",\"overrides\":[],\"properties\":[]},{\"extends\":null,\"module\":null,\"name\":\"FlexBox1\",\"overrides\":[],\"properties\":[{\"default\":\"flex-start\",\"kind\":null,\"name\":\"align_content\"},{\"default\":\"flex-start\",\"kind\":null,\"name\":\"align_items\"},{\"default\":\"row\",\"kind\":null,\"name\":\"flex_direction\"},{\"default\":\"wrap\",\"kind\":null,\"name\":\"flex_wrap\"},{\"default\":\"flex-start\",\"kind\":null,\"name\":\"justify_content\"}]},{\"extends\":null,\"module\":null,\"name\":\"GridStack1\",\"overrides\":[],\"properties\":[{\"default\":\"warn\",\"kind\":null,\"name\":\"mode\"},{\"default\":null,\"kind\":null,\"name\":\"ncols\"},{\"default\":null,\"kind\":null,\"name\":\"nrows\"},{\"default\":true,\"kind\":null,\"name\":\"allow_resize\"},{\"default\":true,\"kind\":null,\"name\":\"allow_drag\"},{\"default\":[],\"kind\":null,\"name\":\"state\"}]},{\"extends\":null,\"module\":null,\"name\":\"click1\",\"overrides\":[],\"properties\":[{\"default\":\"\",\"kind\":null,\"name\":\"terminal_output\"},{\"default\":\"\",\"kind\":null,\"name\":\"debug_name\"},{\"default\":0,\"kind\":null,\"name\":\"clears\"}]},{\"extends\":null,\"module\":null,\"name\":\"TemplateActions1\",\"overrides\":[],\"properties\":[{\"default\":0,\"kind\":null,\"name\":\"open_modal\"},{\"default\":0,\"kind\":null,\"name\":\"close_modal\"}]},{\"extends\":null,\"module\":null,\"name\":\"MaterialTemplateActions1\",\"overrides\":[],\"properties\":[{\"default\":0,\"kind\":null,\"name\":\"open_modal\"},{\"default\":0,\"kind\":null,\"name\":\"close_modal\"}]}],\"roots\":{\"references\":[{\"attributes\":{\"bottom_units\":\"screen\",\"coordinates\":null,\"fill_alpha\":0.5,\"fill_color\":\"lightgrey\",\"group\":null,\"left_units\":\"screen\",\"level\":\"overlay\",\"line_alpha\":1.0,\"line_color\":\"black\",\"line_dash\":[4,4],\"line_width\":2,\"right_units\":\"screen\",\"syncable\":false,\"top_units\":\"screen\"},\"id\":\"45417\",\"type\":\"BoxAnnotation\"},{\"attributes\":{\"end\":1.1,\"reset_end\":1.1,\"reset_start\":0.0,\"tags\":[[[\"smoker\",\"smoker\",null]]]},\"id\":\"45394\",\"type\":\"Range1d\"},{\"attributes\":{},\"id\":\"45435\",\"type\":\"CategoricalTickFormatter\"},{\"attributes\":{\"bottom\":{\"value\":0},\"fill_alpha\":{\"value\":1.0},\"fill_color\":{\"value\":\"#30a2da\"},\"hatch_alpha\":{\"value\":1.0},\"hatch_color\":{\"value\":\"#30a2da\"},\"hatch_scale\":{\"value\":12.0},\"hatch_weight\":{\"value\":1.0},\"line_alpha\":{\"value\":1.0},\"line_cap\":{\"value\":\"butt\"},\"line_color\":{\"value\":\"black\"},\"line_dash\":{\"value\":[]},\"line_dash_offset\":{\"value\":0},\"line_join\":{\"value\":\"bevel\"},\"line_width\":{\"value\":1},\"top\":{\"field\":\"smoker\"},\"width\":{\"value\":0.8},\"x\":{\"field\":\"tip\"}},\"id\":\"45433\",\"type\":\"VBar\"},{\"attributes\":{\"callback\":null,\"renderers\":[{\"id\":\"45431\"}],\"tags\":[\"hv_created\"],\"tooltips\":[[\"tip\",\"@{tip}\"],[\"smoker\",\"@{smoker}\"]]},\"id\":\"45395\",\"type\":\"HoverTool\"},{\"attributes\":{\"client_comm_id\":\"d19f2f64bdfe41e28c2e51cb526353b5\",\"comm_id\":\"6623ce005f544396a3591f51107a7959\",\"plot_id\":\"45384\"},\"id\":\"45490\",\"type\":\"panel.models.comm_manager.CommManager\"},{\"attributes\":{\"coordinates\":null,\"data_source\":{\"id\":\"45425\"},\"glyph\":{\"id\":\"45428\"},\"group\":null,\"hover_glyph\":null,\"muted_glyph\":{\"id\":\"45430\"},\"nonselection_glyph\":{\"id\":\"45429\"},\"selection_glyph\":{\"id\":\"45433\"},\"view\":{\"id\":\"45432\"}},\"id\":\"45431\",\"type\":\"GlyphRenderer\"},{\"attributes\":{\"data\":{\"smoker\":[1,1,0,0],\"tip\":[\"4\",\"6\",\"8\",\"19\"]},\"selected\":{\"id\":\"45426\"},\"selection_policy\":{\"id\":\"45447\"}},\"id\":\"45425\",\"type\":\"ColumnDataSource\"},{\"attributes\":{\"children\":[{\"id\":\"45387\"},{\"id\":\"45391\"}],\"margin\":[0,0,0,0],\"name\":\"Row181872\"},\"id\":\"45386\",\"type\":\"Row\"},{\"attributes\":{},\"id\":\"45401\",\"type\":\"CategoricalScale\"},{\"attributes\":{\"factors\":[\"4\",\"6\",\"8\",\"19\"],\"tags\":[[[\"tip\",\"tip\",null]]]},\"id\":\"45393\",\"type\":\"FactorRange\"},{\"attributes\":{\"children\":[{\"id\":\"45396\"}],\"margin\":[0,0,0,0],\"name\":\"Row181769\"},\"id\":\"45392\",\"type\":\"Row\"},{\"attributes\":{},\"id\":\"45439\",\"type\":\"AllLabels\"},{\"attributes\":{\"tools\":[{\"id\":\"45395\"},{\"id\":\"45412\"},{\"id\":\"45413\"},{\"id\":\"45414\"},{\"id\":\"45415\"},{\"id\":\"45416\"}]},\"id\":\"45418\",\"type\":\"Toolbar\"},{\"attributes\":{\"children\":[{\"id\":\"45386\"},{\"id\":\"45392\"}],\"margin\":[0,0,0,0],\"name\":\"Column181873\"},\"id\":\"45385\",\"type\":\"Column\"},{\"attributes\":{\"end\":50,\"margin\":[5,10,5,10],\"start\":0,\"title\":\"total_bill\",\"value\":18},\"id\":\"45388\",\"type\":\"Slider\"},{\"attributes\":{\"active\":0,\"button_type\":\"success\",\"labels\":[\"tip\"],\"margin\":[5,10,5,10]},\"id\":\"45389\",\"type\":\"RadioButtonGroup\"},{\"attributes\":{},\"id\":\"45403\",\"type\":\"LinearScale\"},{\"attributes\":{},\"id\":\"45426\",\"type\":\"Selection\"},{\"attributes\":{\"coordinates\":null,\"group\":null,\"text\":\"Tip source\",\"text_color\":\"black\",\"text_font_size\":\"12pt\"},\"id\":\"45397\",\"type\":\"Title\"},{\"attributes\":{\"children\":[{\"id\":\"45388\"},{\"id\":\"45389\"},{\"id\":\"45390\"}],\"margin\":[0,0,0,0],\"name\":\"Column181764\"},\"id\":\"45387\",\"type\":\"Column\"},{\"attributes\":{\"below\":[{\"id\":\"45405\"}],\"center\":[{\"id\":\"45407\"},{\"id\":\"45411\"}],\"height\":300,\"left\":[{\"id\":\"45408\"}],\"margin\":[5,5,5,5],\"min_border_bottom\":10,\"min_border_left\":10,\"min_border_right\":10,\"min_border_top\":10,\"renderers\":[{\"id\":\"45431\"}],\"sizing_mode\":\"fixed\",\"title\":{\"id\":\"45397\"},\"toolbar\":{\"id\":\"45418\"},\"width\":700,\"x_range\":{\"id\":\"45393\"},\"x_scale\":{\"id\":\"45401\"},\"y_range\":{\"id\":\"45394\"},\"y_scale\":{\"id\":\"45403\"}},\"id\":\"45396\",\"subtype\":\"Figure\",\"type\":\"Plot\"},{\"attributes\":{\"active\":0,\"button_type\":\"success\",\"labels\":[\"smoker\",\"time\",\"total_bill\"],\"margin\":[5,10,5,10]},\"id\":\"45390\",\"type\":\"RadioButtonGroup\"},{\"attributes\":{\"fill_alpha\":{\"value\":0.2},\"fill_color\":{\"value\":\"#30a2da\"},\"hatch_alpha\":{\"value\":0.2},\"hatch_color\":{\"value\":\"#30a2da\"},\"line_alpha\":{\"value\":0.2},\"top\":{\"field\":\"smoker\"},\"width\":{\"value\":0.8},\"x\":{\"field\":\"tip\"}},\"id\":\"45430\",\"type\":\"VBar\"},{\"attributes\":{},\"id\":\"45406\",\"type\":\"CategoricalTicker\"},{\"attributes\":{\"axis\":{\"id\":\"45405\"},\"coordinates\":null,\"grid_line_color\":null,\"group\":null,\"ticker\":null},\"id\":\"45407\",\"type\":\"Grid\"},{\"attributes\":{},\"id\":\"45436\",\"type\":\"AllLabels\"},{\"attributes\":{\"fill_alpha\":{\"value\":0.1},\"fill_color\":{\"value\":\"#30a2da\"},\"hatch_alpha\":{\"value\":0.1},\"hatch_color\":{\"value\":\"#30a2da\"},\"line_alpha\":{\"value\":0.1},\"top\":{\"field\":\"smoker\"},\"width\":{\"value\":0.8},\"x\":{\"field\":\"tip\"}},\"id\":\"45429\",\"type\":\"VBar\"},{\"attributes\":{},\"id\":\"45413\",\"type\":\"PanTool\"},{\"attributes\":{\"axis_label\":\"tip\",\"coordinates\":null,\"formatter\":{\"id\":\"45435\"},\"group\":null,\"major_label_policy\":{\"id\":\"45436\"},\"ticker\":{\"id\":\"45406\"}},\"id\":\"45405\",\"type\":\"CategoricalAxis\"},{\"attributes\":{\"source\":{\"id\":\"45425\"}},\"id\":\"45432\",\"type\":\"CDSView\"},{\"attributes\":{},\"id\":\"45438\",\"type\":\"BasicTickFormatter\"},{\"attributes\":{\"axis\":{\"id\":\"45408\"},\"coordinates\":null,\"dimension\":1,\"grid_line_color\":null,\"group\":null,\"ticker\":null},\"id\":\"45411\",\"type\":\"Grid\"},{\"attributes\":{\"fill_color\":{\"value\":\"#30a2da\"},\"hatch_color\":{\"value\":\"#30a2da\"},\"top\":{\"field\":\"smoker\"},\"width\":{\"value\":0.8},\"x\":{\"field\":\"tip\"}},\"id\":\"45428\",\"type\":\"VBar\"},{\"attributes\":{},\"id\":\"45447\",\"type\":\"UnionRenderers\"},{\"attributes\":{\"margin\":[5,5,5,5],\"name\":\"HSpacer181871\",\"sizing_mode\":\"stretch_width\"},\"id\":\"45391\",\"type\":\"Spacer\"},{\"attributes\":{\"axis_label\":\"smoker\",\"coordinates\":null,\"formatter\":{\"id\":\"45438\"},\"group\":null,\"major_label_policy\":{\"id\":\"45439\"},\"ticker\":{\"id\":\"45409\"}},\"id\":\"45408\",\"type\":\"LinearAxis\"},{\"attributes\":{},\"id\":\"45409\",\"type\":\"BasicTicker\"},{\"attributes\":{},\"id\":\"45414\",\"type\":\"WheelZoomTool\"},{\"attributes\":{},\"id\":\"45412\",\"type\":\"SaveTool\"},{\"attributes\":{\"children\":[{\"id\":\"45385\"}],\"margin\":[0,0,0,0],\"name\":\"Row181874\"},\"id\":\"45384\",\"type\":\"Row\"},{\"attributes\":{\"overlay\":{\"id\":\"45417\"}},\"id\":\"45415\",\"type\":\"BoxZoomTool\"},{\"attributes\":{},\"id\":\"45416\",\"type\":\"ResetTool\"}],\"root_ids\":[\"45384\",\"45490\"]},\"title\":\"Bokeh Application\",\"version\":\"2.4.2\"}};\n",
       "    var render_items = [{\"docid\":\"2e44c793-80b8-428e-aeff-bc5a80c8014a\",\"root_ids\":[\"45384\"],\"roots\":{\"45384\":\"4ea38f27-d8cb-4f2e-8e14-ee650882b7bc\"}}];\n",
       "    root.Bokeh.embed.embed_items_notebook(docs_json, render_items);\n",
       "  }\n",
       "  if (root.Bokeh !== undefined && root.Bokeh.Panel !== undefined && ( root['Tabulator'] !== undefined)) {\n",
       "    embed_document(root);\n",
       "  } else {\n",
       "    var attempts = 0;\n",
       "    var timer = setInterval(function(root) {\n",
       "      if (root.Bokeh !== undefined && root.Bokeh.Panel !== undefined && (root['Tabulator'] !== undefined)) {\n",
       "        clearInterval(timer);\n",
       "        embed_document(root);\n",
       "      } else if (document.readyState == \"complete\") {\n",
       "        attempts++;\n",
       "        if (attempts > 200) {\n",
       "          clearInterval(timer);\n",
       "          console.log(\"Bokeh: ERROR: Unable to run BokehJS code because BokehJS library is missing\");\n",
       "        }\n",
       "      }\n",
       "    }, 25, root)\n",
       "  }\n",
       "})(window);</script>"
      ],
      "text/plain": [
       "<hvplot.interactive.Interactive at 0x7fc6f5522df0>"
      ]
     },
     "execution_count": 442,
     "metadata": {
      "application/vnd.holoviews_exec.v0+json": {
       "id": "45384"
      }
     },
     "output_type": "execute_result"
    }
   ],
   "source": [
    "tip_source_bar_plot = tip_source_bar_pipeline.hvplot(kind='bar', \n",
    "                                                     x='tip', \n",
    "                                                     y=yaxis_tip_source,\n",
    "                                                     title='Tip source')\n",
    "tip_source_bar_plot"
   ]
  },
  {
   "cell_type": "markdown",
   "id": "a3201941-6a62-4fb3-acb6-0f4a18c0b440",
   "metadata": {},
   "source": [
    "## Creating the dashboard \n"
   ]
  },
  {
   "cell_type": "code",
   "execution_count": 449,
   "id": "13d31fa5-6f25-4f9c-9f70-8547f1d6c45f",
   "metadata": {},
   "outputs": [
    {
     "name": "stderr",
     "output_type": "stream",
     "text": [
      "WARNING:param.Tabulator183888: Setting non-parameter attribute sizing_mide=stretch_widths using a mechanism intended only for parameters\n"
     ]
    },
    {
     "name": "stdout",
     "output_type": "stream",
     "text": [
      "Launching server at http://localhost:62138\n"
     ]
    },
    {
     "data": {
      "text/plain": [
       "<bokeh.server.server.Server at 0x7fc6f580ea30>"
      ]
     },
     "execution_count": 449,
     "metadata": {},
     "output_type": "execute_result"
    }
   ],
   "source": [
    "#Layout using Template\n",
    "template = pn.template.FastListTemplate(\n",
    "    title=\"Waiter's tips dashboard\", \n",
    "    sidebar=[pn.pane.Markdown(\"# Tips in restaurants\"), \n",
    "             pn.pane.Markdown(\"#### Food servers tips in restaurants may be influenced by many factors, including the nature of the restaurant, size of the party, and table locations in the restaurant. Restaurant managers need to know which factors matter when they assign tables to food servers. For the sake of staff morale, they usually want to avoid either the substance or the appearance of unfair treatment of the servers, for whom tips (at least in restaurants in the United States) are a major component of pay.\"), \n",
    "             pn.pane.PNG('tips.png', sizing_mode='scale_both'),\n",
    "             pn.pane.Markdown(\"## Settings\"),   \n",
    "             bill_slider],\n",
    "    main=[pn.Row(pn.Column(y_axis_tip, \n",
    "                           tip_plot.panel(width=700), margin=(0,25)), \n",
    "                 tip_table.panel(width=500)), \n",
    "          pn.Row(pn.Column(tip_scatterplot.panel(width=600), margin=(0,25)), \n",
    "                 pn.Column(yaxis_tip_source, tip_source_bar_plot.panel(width=600)))],\n",
    "    accent_base_color=\"#88d8b0\",\n",
    "    header_background=\"#88d8b0\",\n",
    ")\n",
    "#template.show()\n",
    "template.servable();"
   ]
  },
  {
   "cell_type": "code",
   "execution_count": 446,
   "id": "7da3e4f6-83e7-456b-81a9-c6128cf25435",
   "metadata": {},
   "outputs": [],
   "source": [
    "# run on terminal\n",
    "#panel serve Interactive_dashboard_with_panel.ipynb"
   ]
  }
 ],
 "metadata": {
  "kernelspec": {
   "display_name": "Python 3 (ipykernel)",
   "language": "python",
   "name": "python3"
  },
  "language_info": {
   "codemirror_mode": {
    "name": "ipython",
    "version": 3
   },
   "file_extension": ".py",
   "mimetype": "text/x-python",
   "name": "python",
   "nbconvert_exporter": "python",
   "pygments_lexer": "ipython3",
   "version": "3.9.12"
  }
 },
 "nbformat": 4,
 "nbformat_minor": 5
}
